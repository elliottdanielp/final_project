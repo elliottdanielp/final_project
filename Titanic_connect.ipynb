{
 "cells": [
  {
   "cell_type": "code",
   "execution_count": 1,
   "id": "6b01c0cd",
   "metadata": {},
   "outputs": [],
   "source": [
    "from sqlalchemy import create_engine\n",
    "import psycopg2\n",
    "#import config.py\n",
    "\n",
    "from config import usr\n",
    "from config import pw\n",
    "from config import hostname\n",
    "from config import port\n",
    "from config import dbname\n",
    "\n",
    "engine = create_engine(f\"postgresql+psycopg2://{usr}:{pw}@{hostname}:{port}/{dbname}\")\n"
   ]
  },
  {
   "cell_type": "code",
   "execution_count": 2,
   "id": "ab15c0d0",
   "metadata": {},
   "outputs": [
    {
     "name": "stdout",
     "output_type": "stream",
     "text": [
      "passengerID\n",
      "survived\n",
      "pclass\n",
      "name\n",
      "sex\n",
      "age\n",
      "sibsp\n",
      "parch\n",
      "ticket\n",
      "cabin\n",
      "embarked\n",
      "fare\n"
     ]
    }
   ],
   "source": [
    "from sqlalchemy import inspect\n",
    "inspector=inspect(engine)\n",
    "inspector.get_table_names()\n",
    "\n",
    "for column in inspector.get_columns('titanic_main'):\n",
    "    print(column['name'])\n",
    "   # print(column['type'])\n",
    "   # print(column['nullable'])"
   ]
  }
 ],
 "metadata": {
  "kernelspec": {
   "display_name": "PythonData",
   "language": "python",
   "name": "pythondata"
  },
  "language_info": {
   "codemirror_mode": {
    "name": "ipython",
    "version": 3
   },
   "file_extension": ".py",
   "mimetype": "text/x-python",
   "name": "python",
   "nbconvert_exporter": "python",
   "pygments_lexer": "ipython3",
   "version": "3.7.13"
  }
 },
 "nbformat": 4,
 "nbformat_minor": 5
}
